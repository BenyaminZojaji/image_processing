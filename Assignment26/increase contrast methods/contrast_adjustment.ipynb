{
 "cells": [
  {
   "cell_type": "code",
   "execution_count": null,
   "id": "bac6d17f-2e54-423c-9b29-210ec0dacdab",
   "metadata": {},
   "outputs": [],
   "source": [
    "# 3 ways to adjust contrast"
   ]
  },
  {
   "cell_type": "code",
   "execution_count": null,
   "id": "77d1458f-06c1-4ad5-b2bb-e59faeada34e",
   "metadata": {},
   "outputs": [],
   "source": [
    "# 1: adjust contrast and brightness \n",
    "def apply_brightness_contrast(input_img, brightness = 0, contrast = 0):\n",
    "    \n",
    "    if brightness != 0:\n",
    "        if brightness > 0:\n",
    "            shadow = brightness\n",
    "            highlight = 255\n",
    "        else:\n",
    "            shadow = 0\n",
    "            highlight = 255 + brightness\n",
    "        alpha_b = (highlight - shadow)/255\n",
    "        gamma_b = shadow\n",
    "        \n",
    "        buf = cv2.addWeighted(input_img, alpha_b, input_img, 0, gamma_b)\n",
    "    else:\n",
    "        buf = input_img.copy()\n",
    "    \n",
    "    if contrast != 0:\n",
    "        f = 131*(contrast + 127)/(127*(131-contrast))\n",
    "        alpha_c = f\n",
    "        gamma_c = 127*(1-f)\n",
    "        \n",
    "        buf = cv2.addWeighted(buf, alpha_c, buf, 0, gamma_c)\n",
    "\n",
    "    return buf"
   ]
  },
  {
   "cell_type": "code",
   "execution_count": null,
   "id": "46be5051-daae-43f7-b5a8-d5b62eaddb3a",
   "metadata": {},
   "outputs": [],
   "source": [
    "# 2:\n",
    "enhanced_target = cv2.equalizeHist(target)\n",
    "clahe = cv2.createCLAHE(clipLimit=4)\n",
    "enhanced_target = clahe.apply(enhanced_target)"
   ]
  },
  {
   "cell_type": "code",
   "execution_count": null,
   "id": "b2cf7281-d91d-4710-a374-729ee0ea7027",
   "metadata": {},
   "outputs": [],
   "source": [
    " # 3:\n",
    "alpha = 3 # Contrast control (1.0-3.0)\n",
    "beta = 0 # Brightness control (0-100)\n",
    "enhanced_target = cv2.convertScaleAbs(target, alpha=alpha, beta=beta)"
   ]
  },
  {
   "cell_type": "code",
   "execution_count": null,
   "id": "db05839f-3114-4e51-94f8-5d901d247f60",
   "metadata": {},
   "outputs": [],
   "source": []
  }
 ],
 "metadata": {
  "kernelspec": {
   "display_name": "Python 3 (ipykernel)",
   "language": "python",
   "name": "python3"
  },
  "language_info": {
   "codemirror_mode": {
    "name": "ipython",
    "version": 3
   },
   "file_extension": ".py",
   "mimetype": "text/x-python",
   "name": "python",
   "nbconvert_exporter": "python",
   "pygments_lexer": "ipython3",
   "version": "3.9.6"
  }
 },
 "nbformat": 4,
 "nbformat_minor": 5
}
