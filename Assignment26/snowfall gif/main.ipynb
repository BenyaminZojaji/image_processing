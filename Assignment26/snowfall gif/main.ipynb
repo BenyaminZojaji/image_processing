{
 "cells": [
  {
   "cell_type": "code",
   "execution_count": 58,
   "id": "d301d499-3f84-44b5-9d16-9a4a6a3ca216",
   "metadata": {},
   "outputs": [],
   "source": [
    "import random\n",
    "import cv2\n",
    "import numpy as np\n",
    "import matplotlib.pyplot as plt\n",
    "from cvzone import overlayPNG\n",
    "import imageio"
   ]
  },
  {
   "cell_type": "code",
   "execution_count": 161,
   "id": "c5a4cf70-e41d-4abf-9c73-83f681147ccb",
   "metadata": {},
   "outputs": [],
   "source": [
    "background_img = cv2.imread('img/photo.jpg')\n",
    "snowflakes = []\n",
    "sf_size = 7\n",
    "for i in range(3):\n",
    "    snowflake_img = cv2.imread(f'img/snowflake-{i}.png', -1)\n",
    "    small_snowflake = cv2.resize(snowflake_img, (sf_size , sf_size))\n",
    "    snowflakes.append(small_snowflake)"
   ]
  },
  {
   "cell_type": "code",
   "execution_count": 162,
   "id": "e299c218-1a05-44c9-af1d-b196d68a152e",
   "metadata": {},
   "outputs": [],
   "source": [
    "y, x, _ = background_img.shape\n",
    "sf_pos = [] # stores sf's position\n",
    "for i in range(200): # quantity of sf's are 50\n",
    "    temp_x = random.choice(range(50, x-sf_size))\n",
    "    temp_y = random.choice(range(50, y-sf_size))\n",
    "    sf_pos.append([temp_y, temp_x])"
   ]
  },
  {
   "cell_type": "code",
   "execution_count": 163,
   "id": "0e9ae53d-a6e3-46a6-aa82-2e609eebcdda",
   "metadata": {},
   "outputs": [],
   "source": [
    "# frame_list = [] # stores all the frames\n",
    "with imageio.get_writer(\"snow.gif\", mode=\"I\") as writer:\n",
    "    for i in range(200): # quantity of frames\n",
    "        frame = background_img\n",
    "        for j in range(200): # should be same as sf's quantity\n",
    "            frame = overlayPNG(frame, snowflakes[j%3], (sf_pos[j][1], sf_pos[j][0])) # snowflakes[] used to make 3 model of sf's- note that i am using index 0 only for output\n",
    "            sf_pos[j][0] += 4\n",
    "            rnd_x = random.choices([0, 4, -4], weights=[30,35,35])[0]\n",
    "            sf_pos[j][1] += rnd_x\n",
    "            if sf_pos[j][0]<0 or sf_pos[j][0]+sf_size>=y or sf_pos[j][1]<0 or sf_pos[j][1]+sf_size>=x:\n",
    "                sf_pos[j][0] = 0\n",
    "                sf_pos[j][1] = random.randint(0, x-sf_size-1) # 10+1:sf's size+1 for array ending\n",
    "                \n",
    "        rgb_frame = cv2.cvtColor(frame, cv2.COLOR_BGR2RGB)\n",
    "        writer.append_data(rgb_frame)"
   ]
  },
  {
   "cell_type": "code",
   "execution_count": null,
   "id": "ea9a6c12-7db7-4a32-bfea-25cfbc071eef",
   "metadata": {},
   "outputs": [],
   "source": []
  }
 ],
 "metadata": {
  "kernelspec": {
   "display_name": "Python 3 (ipykernel)",
   "language": "python",
   "name": "python3"
  },
  "language_info": {
   "codemirror_mode": {
    "name": "ipython",
    "version": 3
   },
   "file_extension": ".py",
   "mimetype": "text/x-python",
   "name": "python",
   "nbconvert_exporter": "python",
   "pygments_lexer": "ipython3",
   "version": "3.9.6"
  }
 },
 "nbformat": 4,
 "nbformat_minor": 5
}
