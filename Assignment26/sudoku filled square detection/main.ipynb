{
 "cells": [
  {
   "cell_type": "code",
   "execution_count": 23,
   "id": "80f0139b-9e72-4b54-9b1d-d7dca1fe46ec",
   "metadata": {},
   "outputs": [],
   "source": [
    "import cv2\n",
    "import numpy as np"
   ]
  },
  {
   "cell_type": "code",
   "execution_count": 7,
   "id": "7eef4e78-a1b1-4906-9b3b-fa2792ead6fb",
   "metadata": {},
   "outputs": [],
   "source": [
    "img = cv2.imread('img/sudoku.tif')\n",
    "gray_img = cv2.cvtColor(img, cv2.COLOR_BGR2GRAY)"
   ]
  },
  {
   "cell_type": "code",
   "execution_count": 21,
   "id": "f2e65c6d-5af7-4155-bbf9-e4da04c33745",
   "metadata": {},
   "outputs": [],
   "source": [
    "enhanced_img = cv2.convertScaleAbs(gray_img, 3, 1) # mmm that wasn't a good way to make it better."
   ]
  },
  {
   "cell_type": "code",
   "execution_count": 27,
   "id": "d278ea79-0ae4-41fb-a7fa-6fad3402c680",
   "metadata": {},
   "outputs": [],
   "source": [
    "enhanced_img = cv2.equalizeHist(gray_img)"
   ]
  },
  {
   "cell_type": "code",
   "execution_count": 61,
   "id": "c461fbee-a93b-4b7f-857a-d75cb4e38753",
   "metadata": {},
   "outputs": [
    {
     "data": {
      "text/plain": [
       "array([[[0., 0., 0.],\n",
       "        [0., 0., 0.],\n",
       "        [0., 0., 0.],\n",
       "        ...,\n",
       "        [0., 0., 0.],\n",
       "        [0., 0., 0.],\n",
       "        [0., 0., 0.]],\n",
       "\n",
       "       [[0., 0., 0.],\n",
       "        [0., 0., 0.],\n",
       "        [0., 0., 0.],\n",
       "        ...,\n",
       "        [0., 0., 0.],\n",
       "        [0., 0., 0.],\n",
       "        [0., 0., 0.]],\n",
       "\n",
       "       [[0., 0., 0.],\n",
       "        [0., 0., 0.],\n",
       "        [0., 0., 0.],\n",
       "        ...,\n",
       "        [0., 0., 0.],\n",
       "        [0., 0., 0.],\n",
       "        [0., 0., 0.]],\n",
       "\n",
       "       ...,\n",
       "\n",
       "       [[0., 0., 0.],\n",
       "        [0., 0., 0.],\n",
       "        [0., 0., 0.],\n",
       "        ...,\n",
       "        [0., 0., 0.],\n",
       "        [0., 0., 0.],\n",
       "        [0., 0., 0.]],\n",
       "\n",
       "       [[0., 0., 0.],\n",
       "        [0., 0., 0.],\n",
       "        [0., 0., 0.],\n",
       "        ...,\n",
       "        [0., 0., 0.],\n",
       "        [0., 0., 0.],\n",
       "        [0., 0., 0.]],\n",
       "\n",
       "       [[0., 0., 0.],\n",
       "        [0., 0., 0.],\n",
       "        [0., 0., 0.],\n",
       "        ...,\n",
       "        [0., 0., 0.],\n",
       "        [0., 0., 0.],\n",
       "        [0., 0., 0.]]])"
      ]
     },
     "execution_count": 61,
     "metadata": {},
     "output_type": "execute_result"
    }
   ],
   "source": [
    "thresh = 50\n",
    "ret, thresh_img = cv2.threshold(enhanced_img, thresh, 255, cv2.THRESH_BINARY)\n",
    "contours, hierarchy = cv2.findContours(thresh_img, cv2.RETR_TREE, cv2.CHAIN_APPROX_SIMPLE)\n",
    "contours = contours[1:]\n",
    "img_contours = np.zeros(img.shape)\n",
    "cv2.drawContours(img_contours, contours, -1, (0,255,0), 3)\n",
    "# contours, hierarchy = cv2.findContours(enhanced_img, \n",
    "#     cv2.RETR_EXTERNAL, cv2.CHAIN_APPROX_NONE)\n",
    "# cv2.drawContours(img_contours, contours, -1, (0, 255, 0), 3)"
   ]
  },
  {
   "cell_type": "code",
   "execution_count": 90,
   "id": "c5d916de-30f7-4bbd-bdde-786774a65161",
   "metadata": {},
   "outputs": [],
   "source": [
    "x, y, w, h = cv2.boundingRect(contours[0])"
   ]
  },
  {
   "cell_type": "code",
   "execution_count": 109,
   "id": "faed903f-4793-475f-a965-741a8a2a3b27",
   "metadata": {},
   "outputs": [],
   "source": [
    "sudoku = enhanced_img[y+2:y+h-2, x+2:x+w-2]"
   ]
  },
  {
   "cell_type": "code",
   "execution_count": 110,
   "id": "8bffc3b3-967d-42de-826f-de04d0928578",
   "metadata": {},
   "outputs": [
    {
     "data": {
      "text/plain": [
       "True"
      ]
     },
     "execution_count": 110,
     "metadata": {},
     "output_type": "execute_result"
    }
   ],
   "source": [
    "cv2.imwrite('sudoku.jpg',sudoku) "
   ]
  },
  {
   "cell_type": "code",
   "execution_count": 148,
   "id": "399e5ed5-3a11-4787-affc-10b05c9ab6d2",
   "metadata": {},
   "outputs": [],
   "source": [
    "rows, cols = sudoku.shape\n",
    "for i in range(0, rows, 133):\n",
    "    for j in range(0, cols, 133):\n",
    "        target = sudoku[int(i)+10:int(i+133)-10, int(j)+10:int(j+133)-10]\n",
    "        if np.average(target)<245:\n",
    "            cv2.imwrite(f'output/{i}{j}.jpg', target)"
   ]
  },
  {
   "cell_type": "code",
   "execution_count": 147,
   "id": "afc5a5ea-0c77-4cde-9a97-7e7fcf769534",
   "metadata": {},
   "outputs": [],
   "source": [
    "# another solution is using pytesseract to recognise digits\n",
    "import pytesseract\n",
    "from PIL import Image"
   ]
  },
  {
   "cell_type": "code",
   "execution_count": 144,
   "id": "e777f5d0-a413-4c03-9bf5-b40541ede320",
   "metadata": {},
   "outputs": [],
   "source": [
    "# rows, cols = sudoku.shape\n",
    "# cnt=0\n",
    "# for i in range(0, rows, 133):\n",
    "#     for j in range(0, cols, 133):\n",
    "#         target = sudoku[int(j):int(j+133), int(i):int(i+133)]\n",
    "#         if 180<np.average(target)<214:\n",
    "#             cv2.imwrite(f'output/{cnt}.jpg', target)\n",
    "#             cnt+=1\n",
    "            \n",
    "            \n",
    "#             rgb = cv2.cvtColor(target, cv2.COLOR_GRAY2RGB)\n",
    "#             options = \"outputbase digits\"\n",
    "#             text = pytesseract.image_to_string(rgb, config=options)\n",
    "#             #text_from_ocr = tesserocr.image_to_text(pil_img)\n",
    "#             print(text)\n",
    "#         # 195 210"
   ]
  },
  {
   "cell_type": "code",
   "execution_count": null,
   "id": "1056cb56-a438-4d51-95df-8b1620cc5af4",
   "metadata": {},
   "outputs": [],
   "source": []
  }
 ],
 "metadata": {
  "kernelspec": {
   "display_name": "Python 3 (ipykernel)",
   "language": "python",
   "name": "python3"
  },
  "language_info": {
   "codemirror_mode": {
    "name": "ipython",
    "version": 3
   },
   "file_extension": ".py",
   "mimetype": "text/x-python",
   "name": "python",
   "nbconvert_exporter": "python",
   "pygments_lexer": "ipython3",
   "version": "3.9.6"
  }
 },
 "nbformat": 4,
 "nbformat_minor": 5
}
