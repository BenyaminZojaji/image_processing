{
 "cells": [
  {
   "cell_type": "code",
   "execution_count": 104,
   "id": "6a355f36-af98-4f17-a0cc-522d5354b3d9",
   "metadata": {},
   "outputs": [],
   "source": [
    "import cv2\n",
    "import numpy as np\n",
    "import matplotlib.pyplot as plt"
   ]
  },
  {
   "cell_type": "code",
   "execution_count": 105,
   "id": "098bb222-6a51-40ac-971b-489e4ffa0c50",
   "metadata": {},
   "outputs": [
    {
     "data": {
      "image/png": "[encoded data removed]",
      "text/plain": [
       "<Figure size 432x288 with 1 Axes>"
      ]
     },
     "metadata": {
      "needs_background": "light"
     },
     "output_type": "display_data"
    }
   ],
   "source": [
    "# load and show image\n",
    "img = cv2.imread('img/dino.png', cv2.IMREAD_GRAYSCALE)\n",
    "plt.imshow(img, cmap='gray')\n",
    "plt.show()"
   ]
  },
  {
   "cell_type": "code",
   "execution_count": 106,
   "id": "1a926bde-01ee-459f-b28a-432e0057d2d3",
   "metadata": {},
   "outputs": [
    {
     "data": {
      "image/png": "[encoded data removed]",
      "text/plain": [
       "<Figure size 432x288 with 1 Axes>"
      ]
     },
     "metadata": {
      "needs_background": "light"
     },
     "output_type": "display_data"
    }
   ],
   "source": [
    "# apply some threshold to getting pure 0 or 255 values.\n",
    "_ , threshold_img = cv2.threshold(img, 127, 255, cv2.THRESH_BINARY)\n",
    "plt.imshow(threshold_img, cmap='gray')\n",
    "plt.show()"
   ]
  },
  {
   "cell_type": "code",
   "execution_count": 107,
   "id": "6cbb127d-bd2f-4052-bbbb-0dc560a75c28",
   "metadata": {},
   "outputs": [],
   "source": [
    "# defining findContours func which is return landmarks\n",
    "# Note that to write a complete function, I am rewriting some image pre-processing codes.\n",
    "def findContours(img, mode='RETR_LIST'):\n",
    "    # adding threshold for pure 0 or 255 values image.\n",
    "    _ , threshold_img = cv2.threshold(img, 127, 255, cv2.THRESH_BINARY)\n",
    "    \n",
    "    rows, cols = img.shape\n",
    "    \n",
    "    if mode=='RETR_LIST':\n",
    "        # Horizontally\n",
    "        h_landmarks = []\n",
    "        for i in range(rows):\n",
    "            object_in_row = False\n",
    "            for j in range(cols):\n",
    "                if threshold_img[i, j]==255 and object_in_row==False:\n",
    "                    object_in_row = True\n",
    "                    h_landmarks.append([i, j]) # append in [y, x] format\n",
    "                elif threshold_img[i, j]==0 and object_in_row==True:\n",
    "                    object_in_row = False\n",
    "                    h_landmarks.append([i, j])\n",
    "                    \n",
    "        # Vertically\n",
    "        v_landmarks = []\n",
    "        for i in range(cols):\n",
    "            object_in_col = False\n",
    "            for j in range(rows):\n",
    "                if threshold_img[j, i]==255 and object_in_col==False:\n",
    "                    object_in_col = True\n",
    "                    v_landmarks.append([j, i]) # append in [y, x] format\n",
    "                elif threshold_img[j, i]==0 and object_in_col==True:\n",
    "                    object_in_col = False\n",
    "                    v_landmarks.append([j, i])\n",
    "\n",
    "\n",
    "    elif mode=='RETR_EXTERNAL':\n",
    "        # Horizontally\n",
    "        h_landmarks = []\n",
    "        for i in range(rows):\n",
    "            object_in_row = False\n",
    "            exist = False\n",
    "            tmp = []\n",
    "            for j in range(cols):\n",
    "                if threshold_img[i, j]==255 and object_in_row==False:\n",
    "                    object_in_row = True\n",
    "                    exist = True\n",
    "                    tmp.append([i, j]) # append in [y, x] format\n",
    "                elif threshold_img[i, j]==0 and object_in_row==True:\n",
    "                    object_in_row = False\n",
    "                    tmp.append([i, j])\n",
    "            if exist:\n",
    "                h_landmarks.extend([tmp[0], tmp[-1]])\n",
    "        #h_landmarks.append(tmp[0])\n",
    "        #h_landmarks.append(tmp[-1])\n",
    "                    \n",
    "        # Vertically\n",
    "        v_landmarks = []\n",
    "        for i in range(cols):\n",
    "            object_in_col = False\n",
    "            exist = False\n",
    "            tmp = []\n",
    "            for j in range(rows):\n",
    "                if threshold_img[j, i]==255 and object_in_col==False:\n",
    "                    object_in_col = True\n",
    "                    exist = True\n",
    "                    tmp.append([j, i]) # append in [y, x] format\n",
    "                elif threshold_img[j, i]==0 and object_in_col==True:\n",
    "                    object_in_col = False\n",
    "                    tmp.append([j, i])\n",
    "            if exist:\n",
    "                v_landmarks.extend([tmp[0], tmp[-1]])\n",
    "            \n",
    "    \n",
    "    return h_landmarks, v_landmarks"
   ]
  },
  {
   "cell_type": "code",
   "execution_count": 108,
   "id": "c2af706b-2525-496c-af19-84a38ee2c30a",
   "metadata": {},
   "outputs": [],
   "source": [
    "h_lands, v_lands = findContours(img, 'RETR_EXTERNAL')"
   ]
  },
  {
   "cell_type": "code",
   "execution_count": 109,
   "id": "43e7e3c6",
   "metadata": {},
   "outputs": [],
   "source": [
    "bgr_img = cv2.cvtColor(threshold_img, cv2.COLOR_GRAY2BGR)\n",
    "res_img = bgr_img.copy()"
   ]
  },
  {
   "cell_type": "code",
   "execution_count": 110,
   "id": "d686b571-277a-4240-ba28-72327277f372",
   "metadata": {},
   "outputs": [],
   "source": [
    "# for better visualization let's put a small circle on each landmark.\n",
    "for vl in v_lands:\n",
    "    cv2.circle(res_img, (vl[1], vl[0]), 1, (0,127,0), -1)\n",
    "for hl in h_lands:\n",
    "    cv2.circle(res_img, (hl[1], hl[0]), 1, (0,127,0), -1)"
   ]
  },
  {
   "cell_type": "code",
   "execution_count": 111,
   "id": "e79b1668-f67f-4ac1-9a24-3323bcd8e2d5",
   "metadata": {},
   "outputs": [
    {
     "data": {
      "image/png": "[encoded data removed]",
      "text/plain": [
       "<Figure size 432x288 with 1 Axes>"
      ]
     },
     "metadata": {
      "needs_background": "light"
     },
     "output_type": "display_data"
    }
   ],
   "source": [
    "plt.imshow(res_img)\n",
    "plt.show()"
   ]
  },
  {
   "cell_type": "code",
   "execution_count": 112,
   "id": "aa456f44",
   "metadata": {},
   "outputs": [
    {
     "data": {
      "image/png": "[encoded data removed]",
      "text/plain": [
       "<Figure size 432x288 with 1 Axes>"
      ]
     },
     "metadata": {
      "needs_background": "light"
     },
     "output_type": "display_data"
    }
   ],
   "source": [
    "# RETR_LIST mode:\n",
    "h_lands, v_lands = findContours(img, 'RETR_LIST')\n",
    "\n",
    "bgr_img = cv2.cvtColor(threshold_img, cv2.COLOR_GRAY2BGR)\n",
    "res_img = bgr_img.copy()\n",
    "\n",
    "for vl in v_lands:\n",
    "    cv2.circle(res_img, (vl[1], vl[0]), 1, (0,127,0), -1)\n",
    "for hl in h_lands:\n",
    "    cv2.circle(res_img, (hl[1], hl[0]), 1, (0,127,0), -1)\n",
    "\n",
    "plt.imshow(res_img)\n",
    "plt.show()"
   ]
  }
 ],
 "metadata": {
  "kernelspec": {
   "display_name": "Python 3 (ipykernel)",
   "language": "python",
   "name": "python3"
  },
  "language_info": {
   "codemirror_mode": {
    "name": "ipython",
    "version": 3
   },
   "file_extension": ".py",
   "mimetype": "text/x-python",
   "name": "python",
   "nbconvert_exporter": "python",
   "pygments_lexer": "ipython3",
   "version": "3.9.6"
  }
 },
 "nbformat": 4,
 "nbformat_minor": 5
}
