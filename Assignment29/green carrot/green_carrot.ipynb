{
 "cells": [
  {
   "cell_type": "code",
   "execution_count": 184,
   "metadata": {},
   "outputs": [],
   "source": [
    "import cv2\n",
    "import numpy as np"
   ]
  },
  {
   "cell_type": "code",
   "execution_count": 185,
   "metadata": {},
   "outputs": [],
   "source": [
    "img = cv2.imread('img/Carrot.jpg')"
   ]
  },
  {
   "cell_type": "code",
   "execution_count": 186,
   "metadata": {},
   "outputs": [],
   "source": [
    "b, g, r = cv2.split(img)\n",
    "\n",
    "b_new = np.zeros_like(b)\n",
    "r_new = np.zeros_like(r)"
   ]
  },
  {
   "cell_type": "code",
   "execution_count": 187,
   "metadata": {},
   "outputs": [],
   "source": [
    "# blue carrot with green cleave\n",
    "\n",
    "# rows, cols, _ = img.shape\n",
    "# for i in range(rows):\n",
    "#     for j in range(cols):\n",
    "#         if r[i, j]>240 and b[i, j]<230 and g[i, j]<230:\n",
    "#             b_new[i, j] = r[i, j]\n",
    "#             r_new[i, j] = b[i, j]\n",
    "#         elif r[i, j]<180:\n",
    "#             b_new[i, j] = b[i, j]\n",
    "#             r_new[i, j] = r[i, j]\n",
    "#         elif r[i, j]>230 and g[i, j]<230:\n",
    "#             b_new[i, j] = r[i, j]\n",
    "#             r_new[i, j] = b[i, j]\n",
    "#         elif r[i, j]>210 and b[i, j]>50 and g[i, j]<220:\n",
    "#             b_new[i, j] = r[i, j]\n",
    "#             r_new[i, j] = b[i, j]\n",
    "#         elif g[i, j]>120:\n",
    "#             b_new[i, j] = b[i, j]\n",
    "#             r_new[i, j] = r[i, j]\n",
    "#         else:\n",
    "#             b_new[i, j] = r[i, j]\n",
    "#             r_new[i, j] = b[i, j]"
   ]
  },
  {
   "cell_type": "code",
   "execution_count": 188,
   "metadata": {},
   "outputs": [],
   "source": [
    "r_new = g\n",
    "res = cv2.merge((b, g, r_new))"
   ]
  },
  {
   "cell_type": "code",
   "execution_count": 189,
   "metadata": {},
   "outputs": [
    {
     "data": {
      "text/plain": [
       "True"
      ]
     },
     "execution_count": 189,
     "metadata": {},
     "output_type": "execute_result"
    }
   ],
   "source": [
    "cv2.imwrite('res.jpg', res)"
   ]
  }
 ],
 "metadata": {
  "interpreter": {
   "hash": "bc1ae7ff35cab313f7d755f3c7fc92adf83217636664ab338e6e9a43a97609bc"
  },
  "kernelspec": {
   "display_name": "Python 3.9.6 64-bit",
   "language": "python",
   "name": "python3"
  },
  "language_info": {
   "codemirror_mode": {
    "name": "ipython",
    "version": 3
   },
   "file_extension": ".py",
   "mimetype": "text/x-python",
   "name": "python",
   "nbconvert_exporter": "python",
   "pygments_lexer": "ipython3",
   "version": "3.9.6"
  },
  "orig_nbformat": 4
 },
 "nbformat": 4,
 "nbformat_minor": 2
}
