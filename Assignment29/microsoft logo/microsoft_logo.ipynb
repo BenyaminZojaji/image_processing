{
 "cells": [
  {
   "cell_type": "code",
   "execution_count": 70,
   "metadata": {},
   "outputs": [],
   "source": [
    "import cv2\n",
    "import numpy as np\n",
    "from PIL import ImageFont, ImageDraw, Image"
   ]
  },
  {
   "cell_type": "code",
   "execution_count": 95,
   "metadata": {},
   "outputs": [],
   "source": [
    "logo = np.ones((630, 1260, 3), dtype='uint8') * 80\n",
    "\n",
    "logo[210:310, 210:310] = (246, 83, 20) # red\n",
    "logo[320:420, 210:310] = (0, 161, 241) # blue\n",
    "logo[210:310, 320:420] = (124, 187, 0) # green\n",
    "logo[320:420, 320:420] = (255, 187, 0) # yellow"
   ]
  },
  {
   "cell_type": "code",
   "execution_count": 96,
   "metadata": {},
   "outputs": [],
   "source": [
    "fontpath = \"font/seguisb.ttf\"     \n",
    "font = ImageFont.truetype(fontpath, size=130)\n",
    "\n",
    "img_pil = Image.fromarray(logo)\n",
    "draw = ImageDraw.Draw(img_pil)\n",
    "draw.text((450, 230),  \"Microsoft\", font = font)\n",
    "logo = np.array(img_pil)"
   ]
  },
  {
   "cell_type": "code",
   "execution_count": 97,
   "metadata": {},
   "outputs": [
    {
     "data": {
      "text/plain": [
       "True"
      ]
     },
     "execution_count": 97,
     "metadata": {},
     "output_type": "execute_result"
    }
   ],
   "source": [
    "#cv2.putText(logo, \"Microsoft\", (470, 360), cv2.FONT_HERSHEY_SIMPLEX, 4, (255, 255, 255), 12)\n",
    "logo = cv2.cvtColor(logo, cv2.COLOR_RGB2BGR)\n",
    "cv2.imwrite('logo.jpg', logo)"
   ]
  }
 ],
 "metadata": {
  "interpreter": {
   "hash": "bc1ae7ff35cab313f7d755f3c7fc92adf83217636664ab338e6e9a43a97609bc"
  },
  "kernelspec": {
   "display_name": "Python 3.9.6 64-bit",
   "language": "python",
   "name": "python3"
  },
  "language_info": {
   "codemirror_mode": {
    "name": "ipython",
    "version": 3
   },
   "file_extension": ".py",
   "mimetype": "text/x-python",
   "name": "python",
   "nbconvert_exporter": "python",
   "pygments_lexer": "ipython3",
   "version": "3.9.6"
  },
  "orig_nbformat": 4
 },
 "nbformat": 4,
 "nbformat_minor": 2
}
